{
 "cells": [
  {
   "cell_type": "code",
   "execution_count": 19,
   "metadata": {
    "ExecuteTime": {
     "end_time": "2019-05-26T16:37:08.786481Z",
     "start_time": "2019-05-26T16:37:08.649Z"
    }
   },
   "outputs": [],
   "source": [
    "// init Paket. Ignore netstandard not found warning if any\n",
    "#load \"Paket.fsx\""
   ]
  },
  {
   "cell_type": "code",
   "execution_count": 2,
   "metadata": {},
   "outputs": [],
   "source": [
    "// load packages\n",
    "Paket.Package \n",
    "    [\n",
    "        \"Newtonsoft.Json\"\n",
    "    ]"
   ]
  },
  {
   "cell_type": "code",
   "execution_count": 3,
   "metadata": {},
   "outputs": [],
   "source": [
    "#load \"Paket.Generated.Refs.fsx\""
   ]
  },
  {
   "cell_type": "markdown",
   "metadata": {},
   "source": [
    "# Charting from feature notebook"
   ]
  },
  {
   "cell_type": "markdown",
   "metadata": {},
   "source": [
    "Angara and some other server side charting lib did not work from mono so skipping it"
   ]
  },
  {
   "cell_type": "markdown",
   "metadata": {},
   "source": [
    "JS based stuff looks more promisining, so lets try this out"
   ]
  },
  {
   "cell_type": "code",
   "execution_count": 4,
   "metadata": {
    "scrolled": true
   },
   "outputs": [
    {
     "data": {
      "text/html": [
       "<script src=\"https://d3js.org/d3.v3.js\"></script>"
      ]
     },
     "metadata": {},
     "output_type": "display_data"
    }
   ],
   "source": [
    "@\"<script src=\"\"https://d3js.org/d3.v3.js\"\"></script>\" |> Util.Html |> Display"
   ]
  },
  {
   "cell_type": "code",
   "execution_count": 5,
   "metadata": {},
   "outputs": [],
   "source": [
    "type D3Op = {\n",
    "    Op: string\n",
    "    Style: List<string * string>\n",
    "    Attr: List<string * int>\n",
    "    On: List<string * List<D3Op>>\n",
    "}\n",
    "\n",
    "type D3 = List<D3Op>\n",
    "\n",
    "let d3op = {Op = \"\"; Style = []; Attr = []; On = []}\n",
    "\n",
    "let mapConcat s f xs = \n",
    "    xs |> List.map f |> String.concat s\n",
    "\n",
    "let rec D3OpPrinter (op: D3Op) =\n",
    "    sprintf \n",
    "        \"%s%s%s%s\"\n",
    "        (if op.Op.Length > 0 then\n",
    "            sprintf \"\\t.append(\\\"%s\\\")\\n\" op.Op\n",
    "        else\n",
    "            \"\")\n",
    "        (op.Style |> mapConcat \"\\t\" (fun (k, v) -> sprintf \".style(\\\"%s\\\", \\\"%s\\\")\\n\" k v ) )\n",
    "        (op.Attr |> mapConcat \"\\t\" (fun (k, v) -> sprintf \".attr(\\\"%s\\\", %d)\\n\" k v))\n",
    "        (op.On\n",
    "            |> mapConcat \"\\t\" (fun (k, v) ->\n",
    "                sprintf \n",
    "                    \".on(\\\"%s\\\",\\n\\tfunction(){\\n\\td3.select(this)\\n%s\\t})\\n\"\n",
    "                    k\n",
    "                    (v |> mapConcat \"\" D3OpPrinter)\n",
    "                ))\n",
    "\n",
    "let D3Printer (d3: D3) =\n",
    "    sprintf \n",
    "        \"\"\"\n",
    "<div id=\"viz\"></div>\n",
    "<script type=\"text/javascript\">\n",
    "\n",
    "d3.select(\"#viz\")\n",
    "%s\n",
    "\"\"\"\n",
    "        (d3 |> mapConcat \"\" D3OpPrinter)\n",
    "\n",
    "App.AddDisplayPrinter (fun (d3: D3) ->\n",
    "  { ContentType = \"text/html\"\n",
    "    Data = D3Printer d3 }\n",
    "  )"
   ]
  },
  {
   "cell_type": "code",
   "execution_count": null,
   "metadata": {},
   "outputs": [],
   "source": []
  },
  {
   "cell_type": "code",
   "execution_count": 6,
   "metadata": {},
   "outputs": [
    {
     "data": {
      "text/html": [
       "\n",
       "<div id=\"viz\"></div>\n",
       "<script type=\"text/javascript\">\n",
       "\n",
       "d3.select(\"#viz\")\n",
       "\t.append(\"svg\")\n",
       ".attr(\"width\", 100)\n",
       "\t.attr(\"height\", 100)\n",
       "\t.append(\"circle\")\n",
       ".style(\"stroke\", \"grey\")\n",
       "\t.style(\"fill\", \"white\")\n",
       ".attr(\"r\", 40)\n",
       "\t.attr(\"cx\", 50)\n",
       "\t.attr(\"cy\", 50)\n",
       ".on(\"mouseover\",\n",
       "\tfunction(){\n",
       "\td3.select(this)\n",
       ".style(\"fill\", \"blue\")\n",
       "\t})\n",
       "\t.on(\"mouseout\",\n",
       "\tfunction(){\n",
       "\td3.select(this)\n",
       ".style(\"fill\", \"white\")\n",
       "\t})\n",
       "\n"
      ],
      "text/plain": [
       "[{Op = \"svg\";\n",
       "  Style = [];\n",
       "  Attr = [(\"width\", 100); (\"height\", 100)];\n",
       "  On = [];};\n",
       " {Op = \"circle\";\n",
       "  Style = [(\"stroke\", \"grey\"); (\"fill\", \"white\")];\n",
       "  Attr = [(\"r\", 40); (\"cx\", 50); (\"cy\", 50)];\n",
       "  On = [(\"mouseover\", [{Op = \"\";\n",
       "                        Style = [(\"fill\", \"blue\")];\n",
       "                        Attr = [];\n",
       "                        On = [];}]); (\"mouseout\", [{Op = \"\";\n",
       "                                                    Style = [(\"fill\", \"white\")];\n",
       "                                                    Attr = [];\n",
       "                                                    On = [];}])];}]"
      ]
     },
     "execution_count": 6,
     "metadata": {},
     "output_type": "execute_result"
    }
   ],
   "source": [
    "[\n",
    "    {d3op with \n",
    "        Op = \"svg\"\n",
    "        Attr = [(\"width\", 100); (\"height\", 100)] }\n",
    "    {d3op with\n",
    "        Op = \"circle\"\n",
    "        Style = [(\"stroke\", \"grey\"); (\"fill\", \"white\")]\n",
    "        Attr = [(\"r\", 40); (\"cx\", 50); (\"cy\", 50)]\n",
    "        On = \n",
    "          [ (\"mouseover\", [{d3op with Style = [(\"fill\", \"blue\")]}])\n",
    "            (\"mouseout\", [{d3op with Style = [(\"fill\", \"white\")]}]) ] }\n",
    "]"
   ]
  },
  {
   "cell_type": "markdown",
   "metadata": {},
   "source": [
    "D3 works out of the box, so let's try other libs, which provide easier to use API"
   ]
  },
  {
   "cell_type": "markdown",
   "metadata": {},
   "source": [
    "## Trying out Rickshaw and Chartjs"
   ]
  },
  {
   "cell_type": "code",
   "execution_count": 7,
   "metadata": {},
   "outputs": [
    {
     "data": {
      "text/html": [
       "\n",
       "<script>\n",
       "var dom = document.getElementById(\"container\");\n",
       "var myChart = echarts.init(dom);\n",
       "var app = {};\n",
       "option = null;\n",
       "option = {\n",
       "    xAxis: {\n",
       "        type: 'category',\n",
       "        boundaryGap: false,\n",
       "        data: ['Mon', 'Tue', 'Wed', 'Thu', 'Fri', 'Sat', 'Sun']\n",
       "    },\n",
       "    yAxis: {\n",
       "        type: 'value'\n",
       "    },\n",
       "    series: [{\n",
       "        data: [820, 932, 901, 934, 1290, 1330, 1320],\n",
       "        type: 'line',\n",
       "        areaStyle: {}\n",
       "    }]\n",
       "};\n",
       ";\n",
       "if (option && typeof option === \"object\") {\n",
       "    myChart.setOption(option, true);\n",
       "}\n",
       "</script>\n"
      ]
     },
     "metadata": {},
     "output_type": "display_data"
    }
   ],
   "source": [
    "\"\"\"\n",
    "<script>\n",
    "var dom = document.getElementById(\"container\");\n",
    "var myChart = echarts.init(dom);\n",
    "var app = {};\n",
    "option = null;\n",
    "option = {\n",
    "    xAxis: {\n",
    "        type: 'category',\n",
    "        boundaryGap: false,\n",
    "        data: ['Mon', 'Tue', 'Wed', 'Thu', 'Fri', 'Sat', 'Sun']\n",
    "    },\n",
    "    yAxis: {\n",
    "        type: 'value'\n",
    "    },\n",
    "    series: [{\n",
    "        data: [820, 932, 901, 934, 1290, 1330, 1320],\n",
    "        type: 'line',\n",
    "        areaStyle: {}\n",
    "    }]\n",
    "};\n",
    ";\n",
    "if (option && typeof option === \"object\") {\n",
    "    myChart.setOption(option, true);\n",
    "}\n",
    "</script>\n",
    "\"\"\" |> Util.Html |> Display"
   ]
  },
  {
   "cell_type": "code",
   "execution_count": 8,
   "metadata": {},
   "outputs": [
    {
     "data": {
      "text/html": [
       " \n",
       "<div id=\"chart\"></div> \n",
       " \n",
       "<script type=\"text/javascript\"> \n",
       "var graph = new Rickshaw.Graph( {\n",
       "    element: document.querySelector('#chart'), \n",
       "    width: 300, \n",
       "    height: 200, \n",
       "    series: [{\n",
       "        color: 'steelblue',\n",
       "        data: [ \n",
       "            { x: 0, y: 40 }, \n",
       "            { x: 1, y: 49 }, \n",
       "            { x: 2, y: 38 }, \n",
       "            { x: 3, y: 30 }, \n",
       "            { x: 4, y: 32 } ]\n",
       "    }]\n",
       "}); \n",
       "graph.render();\n"
      ]
     },
     "metadata": {},
     "output_type": "display_data"
    }
   ],
   "source": [
    "\"\"\" \n",
    "<div id=\"chart\"></div> \n",
    " \n",
    "<script type=\"text/javascript\"> \n",
    "var graph = new Rickshaw.Graph( {\n",
    "    element: document.querySelector('#chart'), \n",
    "    width: 300, \n",
    "    height: 200, \n",
    "    series: [{\n",
    "        color: 'steelblue',\n",
    "        data: [ \n",
    "            { x: 0, y: 40 }, \n",
    "            { x: 1, y: 49 }, \n",
    "            { x: 2, y: 38 }, \n",
    "            { x: 3, y: 30 }, \n",
    "            { x: 4, y: 32 } ]\n",
    "    }]\n",
    "}); \n",
    "graph.render();\n",
    "\"\"\"\n",
    "|> Util.Html |> Display"
   ]
  },
  {
   "cell_type": "markdown",
   "metadata": {},
   "source": [
    "Both examples don't show any output. It turns out these libs must use either js require or a frame wrapper (check errors from js console of your browser)"
   ]
  },
  {
   "cell_type": "markdown",
   "metadata": {},
   "source": [
    "## Wrapping with frame\n",
    "\n",
    "taking an approach from this lib:\n",
    "\n",
    "https://github.com/niloch/iplotter/tree/0403486d8633f601a33c4d2b9c9fa3ec88e9327b#installation "
   ]
  },
  {
   "cell_type": "code",
   "execution_count": 9,
   "metadata": {},
   "outputs": [],
   "source": [
    "// wrap html generating code\n",
    "let chartjs data = \n",
    "    sprintf \"\"\"\n",
    "        <canvas id='myChart'></canvas> \n",
    "        <script src='https://cdnjs.cloudflare.com/ajax/libs/Chart.js/2.5.0/Chart.bundle.min.js'></script>\n",
    "\n",
    "        <script>\n",
    "\n",
    "        var ctx = document.getElementById('myChart').getContext('2d');\n",
    "\n",
    "        var chart = new Chart(ctx, {\n",
    "            // The type of chart we want to create\n",
    "            type: 'line',\n",
    "\n",
    "            // The data for our dataset\n",
    "            data: %s,\n",
    "\n",
    "            // Configuration options go here\n",
    "            options: {}\n",
    "          });\n",
    "\n",
    "        </script>\n",
    "        \"\"\"  data\n"
   ]
  },
  {
   "cell_type": "code",
   "execution_count": 10,
   "metadata": {},
   "outputs": [],
   "source": [
    "// how do we want frame to be displayed\n",
    "type Options = {\n",
    "    Height: int\n",
    "    Width: int\n",
    "  }\n",
    "  with \n",
    "      static member Default = {\n",
    "              Width = 800\n",
    "              Height  = 400\n",
    "          }"
   ]
  },
  {
   "cell_type": "code",
   "execution_count": 11,
   "metadata": {},
   "outputs": [],
   "source": [
    "// wrapping charting related code in a frame\n",
    "let frame options c = \n",
    "    sprintf \"\"\"\n",
    "            <iframe srcdoc=\"%s\" height = \"%d px\" width=\"%d px\" sandbox=\"allow-scripts\" frameborder=\"0\"></iframe>\n",
    "            \"\"\" c options.Height options.Width"
   ]
  },
  {
   "cell_type": "code",
   "execution_count": 12,
   "metadata": {},
   "outputs": [],
   "source": [
    "// An attempt make chartJs interop more strongly typed. \n",
    "// Colors could be further typed but I'm not building a lib yet :)\n",
    "type ChartJsDataset = {\n",
    "    label: string\n",
    "    backgroundColor: string\n",
    "    borderColor: string\n",
    "    data: int seq\n",
    "}\n",
    "\n",
    "type ChartJsData = {\n",
    "    labels: string seq\n",
    "    datasets: ChartJsDataset seq\n",
    "}\n",
    "\n",
    "// \"render\" dataset by wrapping it in HTML and then ina frame\n",
    "let chartLine options labels datasets = \n",
    "   let data = {\n",
    "       labels = labels\n",
    "       datasets = datasets\n",
    "   }\n",
    "   let stringifiedData = Newtonsoft.Json.JsonConvert.SerializeObject(data).Replace(\"\\\"\",\"'\")\n",
    "   chartjs stringifiedData |> frame options |> Util.Html\n",
    "   "
   ]
  },
  {
   "cell_type": "code",
   "execution_count": 13,
   "metadata": {},
   "outputs": [],
   "source": [
    "// Datasets. \n",
    "let first = {\n",
    "        label = \"My First dataset\"\n",
    "        backgroundColor = \"rgba(255, 99, 132, 0.2)\"\n",
    "        borderColor = \"rgba(255, 99, 132, 1\"\n",
    "        data = [0;10;5;2;20;30;45]\n",
    "    }\n",
    "let second = {\n",
    "        label = \"My Second dataset\"\n",
    "        backgroundColor = \"rgba(54, 162, 235, 0.2)\"\n",
    "        borderColor = \"rgba(54, 162, 235, 1)\"\n",
    "        data = [23;0;0;0;0;10;45]\n",
    "    }"
   ]
  },
  {
   "cell_type": "code",
   "execution_count": 14,
   "metadata": {},
   "outputs": [
    {
     "data": {
      "text/html": [
       "\n",
       "            <iframe srcdoc=\"\n",
       "        <canvas id='myChart'></canvas> \n",
       "        <script src='https://cdnjs.cloudflare.com/ajax/libs/Chart.js/2.5.0/Chart.bundle.min.js'></script>\n",
       "\n",
       "        <script>\n",
       "\n",
       "        var ctx = document.getElementById('myChart').getContext('2d');\n",
       "\n",
       "        var chart = new Chart(ctx, {\n",
       "            // The type of chart we want to create\n",
       "            type: 'line',\n",
       "\n",
       "            // The data for our dataset\n",
       "            data: {'labels':['January','February','March','April','May','June','July'],'datasets':[{'label':'My First dataset','backgroundColor':'rgba(255, 99, 132, 0.2)','borderColor':'rgba(255, 99, 132, 1','data':[0,10,5,2,20,30,45]},{'label':'My Second dataset','backgroundColor':'rgba(54, 162, 235, 0.2)','borderColor':'rgba(54, 162, 235, 1)','data':[23,0,0,0,0,10,45]}]},\n",
       "\n",
       "            // Configuration options go here\n",
       "            options: {}\n",
       "          });\n",
       "\n",
       "        </script>\n",
       "        \" height = \"400 px\" width=\"800 px\" sandbox=\"allow-scripts\" frameborder=\"0\"></iframe>\n",
       "            "
      ],
      "text/plain": [
       "{Html =\n",
       "  \"\n",
       "            <iframe srcdoc=\"\n",
       "        <canvas id='myChart'></canvas> \n",
       "        <script src='https://cdnjs.cloudflare.com/ajax/libs/Chart.js/2.5.0/Chart.bundle.min.js'></script>\n",
       "\n",
       "        <script>\n",
       "\n",
       "        var ctx = document.getElementById('myChart').getContext('2d');\n",
       "\n",
       "        var chart = new Chart(ctx, {\n",
       "            // The type of chart we want to create\n",
       "            type: 'line',\n",
       "\n",
       "            // The data for our dataset\n",
       "            data: {'labels':['January','February','March','April','May','June','July'],'datasets':[{'label':'My First dataset','backgroundColor':'rgba(255, 99, 132, 0.2)','borderColor':'rgba(255, 99, 132, 1','data':[0,10,5,2,20,30,45]},{'label':'My Second dataset','backgroundColor':'rgba(54, 162, 235, 0.2)','borderColor':'rgba(54, 162, 235, 1)','data':[23,0,0,0,0,10,45]}]},\n",
       "\n",
       "            // Configuration options go here\n",
       "            options: {}\n",
       "          });\n",
       "\n",
       "        </script>\n",
       "        \" height = \"400 px\" width=\"800 px\" sandbox=\"allow-scripts\" frameborder=\"0\"></iframe>\n",
       "            \";}"
      ]
     },
     "execution_count": 14,
     "metadata": {},
     "output_type": "execute_result"
    }
   ],
   "source": [
    "chartLine Options.Default\n",
    "    [\"January\";\"February\";\"March\";\"April\";\"May\";\"June\";\"July\"]\n",
    "    [first; second]"
   ]
  },
  {
   "cell_type": "markdown",
   "metadata": {},
   "source": [
    "### Frame works!!! \n",
    "\n",
    "Let's check alternatives"
   ]
  },
  {
   "cell_type": "markdown",
   "metadata": {},
   "source": [
    "#### Google chart work out of the box\n",
    "\n",
    "from here http://markibrahim.me/musings/notebooks/beautiful_javascript_charts.html"
   ]
  },
  {
   "cell_type": "code",
   "execution_count": 18,
   "metadata": {
    "scrolled": false
   },
   "outputs": [
    {
     "data": {
      "text/html": [
       "\n",
       "<html>\n",
       "  <head>\n",
       "    <script type=\"text/javascript\" src=\"https://www.gstatic.com/charts/loader.js\"></script>\n",
       "    <script type=\"text/javascript\">\n",
       "      google.charts.load(\"current\", {packages:[\"corechart\"]});\n",
       "      google.charts.setOnLoadCallback(drawChart);\n",
       "      function drawChart() {\n",
       "        var data = google.visualization.arrayToDataTable([\n",
       "          ['Task', 'Hours per Day'],\n",
       "          ['Work',     11],\n",
       "          ['Eat',      2],\n",
       "          ['Commute',  2],\n",
       "          ['Watch TV', 2],\n",
       "          ['Sleep',    7]\n",
       "]);\n",
       "\n",
       "        var options = {\n",
       "          title: \"test\",\n",
       "          pieHole: 0.4,\n",
       "        };\n",
       "\n",
       "        var chart = new google.visualization.PieChart(document.getElementById('donutchart'));\n",
       "        chart.draw(data, options);\n",
       "      }\n",
       "    </script>\n",
       "  </head>\n",
       "  <body>\n",
       "    <div id=\"donutchart\" style=\"width: 900px; height: 520px;\"></div>\n",
       "  </body>\n",
       "</html>\n"
      ],
      "text/plain": [
       "{Html =\n",
       "  \"\n",
       "<html>\n",
       "  <head>\n",
       "    <script type=\"text/javascript\" src=\"https://www.gstatic.com/charts/loader.js\"></script>\n",
       "    <script type=\"text/javascript\">\n",
       "      google.charts.load(\"current\", {packages:[\"corechart\"]});\n",
       "      google.charts.setOnLoadCallback(drawChart);\n",
       "      function drawChart() {\n",
       "        var data = google.visualization.arrayToDataTable([\n",
       "          ['Task', 'Hours per Day'],\n",
       "          ['Work',     11],\n",
       "          ['Eat',      2],\n",
       "          ['Commute',  2],\n",
       "          ['Watch TV', 2],\n",
       "          ['Sleep',    7]\n",
       "]);\n",
       "\n",
       "        var options = {\n",
       "          title: \"test\",\n",
       "          pieHole: 0.4,\n",
       "        };\n",
       "\n",
       "        var chart = new google.visualization.PieChart(document.getElementById('donutchart'));\n",
       "        chart.draw(data, options);\n",
       "      }\n",
       "    </script>\n",
       "  </head>\n",
       "  <body>\n",
       "    <div id=\"donutchart\" style=\"width: 900px; height: 520px;\"></div>\n",
       "  </body>\n",
       "</html>\n",
       "\";}"
      ]
     },
     "execution_count": 18,
     "metadata": {},
     "output_type": "execute_result"
    }
   ],
   "source": [
    "\"\"\"\n",
    "<html>\n",
    "  <head>\n",
    "    <script type=\"text/javascript\" src=\"https://www.gstatic.com/charts/loader.js\"></script>\n",
    "    <script type=\"text/javascript\">\n",
    "      google.charts.load(\"current\", {packages:[\"corechart\"]});\n",
    "      google.charts.setOnLoadCallback(drawChart);\n",
    "      function drawChart() {\n",
    "        var data = google.visualization.arrayToDataTable([\n",
    "          ['Task', 'Hours per Day'],\n",
    "          ['Work',     11],\n",
    "          ['Eat',      2],\n",
    "          ['Commute',  2],\n",
    "          ['Watch TV', 2],\n",
    "          ['Sleep',    7]\n",
    "]);\n",
    "\n",
    "        var options = {\n",
    "          title: \"test\",\n",
    "          pieHole: 0.4,\n",
    "        };\n",
    "\n",
    "        var chart = new google.visualization.PieChart(document.getElementById('donutchart'));\n",
    "        chart.draw(data, options);\n",
    "      }\n",
    "    </script>\n",
    "  </head>\n",
    "  <body>\n",
    "    <div id=\"donutchart\" style=\"width: 900px; height: 520px;\"></div>\n",
    "  </body>\n",
    "</html>\n",
    "\"\"\" |> Util.Html"
   ]
  },
  {
   "cell_type": "markdown",
   "metadata": {},
   "source": [
    " 11 hours of work plus 2 hours of sleep does not look healthy :(\n",
    " "
   ]
  },
  {
   "cell_type": "code",
   "execution_count": 16,
   "metadata": {},
   "outputs": [
    {
     "data": {
      "text/html": [
       "<script src='https://cdnjs.cloudflare.com/ajax/libs/vis/4.21.0/vis.min.js'></script>\n",
       "<link href='https://cdnjs.cloudflare.com/ajax/libs/vis/4.21.0/vis.min.css' rel='stylesheet' type='text/css'>\n"
      ],
      "text/plain": [
       "{Html =\n",
       "  \"<script src='https://cdnjs.cloudflare.com/ajax/libs/vis/4.21.0/vis.min.js'></script>\n",
       "<link href='https://cdnjs.cloudflare.com/ajax/libs/vis/4.21.0/vis.min.css' rel='stylesheet' type='text/css'>\n",
       "\";}"
      ]
     },
     "execution_count": 16,
     "metadata": {},
     "output_type": "execute_result"
    }
   ],
   "source": [
    "\"\"\"<script src='https://cdnjs.cloudflare.com/ajax/libs/vis/4.21.0/vis.min.js'></script>\n",
    "<link href='https://cdnjs.cloudflare.com/ajax/libs/vis/4.21.0/vis.min.css\" rel='stylesheet' type='text/css'>\n",
    "\"\"\".Replace(\"\\\"\", \"'\")\n",
    "    |> Util.Html"
   ]
  },
  {
   "cell_type": "code",
   "execution_count": 17,
   "metadata": {},
   "outputs": [
    {
     "data": {
      "text/html": [
       "\n",
       "            <iframe srcdoc=\"\n",
       "\n",
       "<script src='https://cdnjs.cloudflare.com/ajax/libs/vis/4.21.0/vis.min.js'></script>\n",
       "<style type='text/css'>\n",
       "    #mynetwork {\n",
       "      width: 600px;\n",
       "      height: 380px;\n",
       "      border: 1px solid lightgray;\n",
       "    }\n",
       "</style>\n",
       "<div id='mynetwork' width='100%' height='100%'>Hello</div>\n",
       "<script type='text/javascript'>\n",
       "  // create an array with nodes\n",
       "  var nodes = new vis.DataSet([\n",
       "    {id: 1, label: 'Node 1'},\n",
       "    {id: 2, label: 'Node 2'},\n",
       "    {id: 3, label: 'Node 3'},\n",
       "    {id: 4, label: 'Node 4'},\n",
       "    {id: 5, label: 'Node 5'}\n",
       "  ]);\n",
       "\n",
       "  // create an array with edges\n",
       "  var edges = new vis.DataSet([\n",
       "    {from: 1, to: 3, label: 'edge 1 to 3', arrows: 'to', font: {align: 'bottom'}},\n",
       "    {from: 1, to: 2},\n",
       "    {from: 2, to: 4},\n",
       "    {from: 2, to: 5},\n",
       "    {from: 3, to: 3, label: '3 to 3', arrows: 'to'}\n",
       "  ]);\n",
       "\n",
       "  // create a network\n",
       "  var container = document.getElementById('mynetwork');\n",
       "  var data = {\n",
       "    nodes: nodes,\n",
       "    edges: edges\n",
       "  };\n",
       "  var options = {};\n",
       "  var network = new vis.Network(container, data, options);\n",
       "</script>\n",
       "\n",
       "\n",
       "\" height = \"400 px\" width=\"800 px\" sandbox=\"allow-scripts\" frameborder=\"0\"></iframe>\n",
       "            "
      ],
      "text/plain": [
       "{Html =\n",
       "  \"\n",
       "            <iframe srcdoc=\"\n",
       "\n",
       "<script src='https://cdnjs.cloudflare.com/ajax/libs/vis/4.21.0/vis.min.js'></script>\n",
       "<style type='text/css'>\n",
       "    #mynetwork {\n",
       "      width: 600px;\n",
       "      height: 380px;\n",
       "      border: 1px solid lightgray;\n",
       "    }\n",
       "</style>\n",
       "<div id='mynetwork' width='100%' height='100%'>Hello</div>\n",
       "<script type='text/javascript'>\n",
       "  // create an array with nodes\n",
       "  var nodes = new vis.DataSet([\n",
       "    {id: 1, label: 'Node 1'},\n",
       "    {id: 2, label: 'Node 2'},\n",
       "    {id: 3, label: 'Node 3'},\n",
       "    {id: 4, label: 'Node 4'},\n",
       "    {id: 5, label: 'Node 5'}\n",
       "  ]);\n",
       "\n",
       "  // create an array with edges\n",
       "  var edges = new vis.DataSet([\n",
       "    {from: 1, to: 3, label: 'edge 1 to 3', arrows: 'to', font: {align: 'bottom'}},\n",
       "    {from: 1, to: 2},\n",
       "    {from: 2, to: 4},\n",
       "    {from: 2, to: 5},\n",
       "    {from: 3, to: 3, label: '3 to 3', arrows: 'to'}\n",
       "  ]);\n",
       "\n",
       "  // create a network\n",
       "  var container = document.getElementById('mynetwork');\n",
       "  var data = {\n",
       "    nodes: nodes,\n",
       "    edges: edges\n",
       "  };\n",
       "  var options = {};\n",
       "  var network = new vis.Network(container, data, options);\n",
       "</script>\n",
       "\n",
       "\n",
       "\" height = \"400 px\" width=\"800 px\" sandbox=\"allow-scripts\" frameborder=\"0\"></iframe>\n",
       "            \";}"
      ]
     },
     "execution_count": 17,
     "metadata": {},
     "output_type": "execute_result"
    }
   ],
   "source": [
    "\"\"\"\n",
    "\n",
    "<script src='https://cdnjs.cloudflare.com/ajax/libs/vis/4.21.0/vis.min.js'></script>\n",
    "<style type='text/css'>\n",
    "    #mynetwork {\n",
    "      width: 600px;\n",
    "      height: 380px;\n",
    "      border: 1px solid lightgray;\n",
    "    }\n",
    "</style>\n",
    "<div id='mynetwork' width='100%' height='100%'>Hello</div>\n",
    "<script type='text/javascript'>\n",
    "  // create an array with nodes\n",
    "  var nodes = new vis.DataSet([\n",
    "    {id: 1, label: 'Node 1'},\n",
    "    {id: 2, label: 'Node 2'},\n",
    "    {id: 3, label: 'Node 3'},\n",
    "    {id: 4, label: 'Node 4'},\n",
    "    {id: 5, label: 'Node 5'}\n",
    "  ]);\n",
    "\n",
    "  // create an array with edges\n",
    "  var edges = new vis.DataSet([\n",
    "    {from: 1, to: 3, label: 'edge 1 to 3', arrows: 'to', font: {align: 'bottom'}},\n",
    "    {from: 1, to: 2},\n",
    "    {from: 2, to: 4},\n",
    "    {from: 2, to: 5},\n",
    "    {from: 3, to: 3, label: '3 to 3', arrows: 'to'}\n",
    "  ]);\n",
    "\n",
    "  // create a network\n",
    "  var container = document.getElementById('mynetwork');\n",
    "  var data = {\n",
    "    nodes: nodes,\n",
    "    edges: edges\n",
    "  };\n",
    "  var options = {};\n",
    "  var network = new vis.Network(container, data, options);\n",
    "</script>\n",
    "\n",
    "\n",
    "\"\"\"\n",
    "|> frame Options.Default |> Util.Html"
   ]
  },
  {
   "cell_type": "markdown",
   "metadata": {},
   "source": [
    "# What can be improved"
   ]
  },
  {
   "cell_type": "markdown",
   "metadata": {},
   "source": [
    "Python provides much better interop with javascript: notice how *element.* is used from require function. It is injected by interop and is not available when using F# \n",
    "\n",
    "https://gist.github.com/fabriziopandini/7e8efdd7063a518a2d2d"
   ]
  },
  {
   "cell_type": "markdown",
   "metadata": {},
   "source": [
    "More interop plus callbacks plus a Python API which looks like js https://jupyter-notebook.readthedocs.io/en/stable/examples/Notebook/JavaScript%20Notebook%20Extensions.html\n",
    "\n",
    "which makes me wonder if Fable could help here or IronPython should be used to keep all those magic magics working."
   ]
  }
 ],
 "metadata": {
  "kernelspec": {
   "display_name": "F#",
   "language": "fsharp",
   "name": "ifsharp"
  },
  "language": "fsharp",
  "language_info": {
   "codemirror_mode": "",
   "file_extension": ".fs",
   "mimetype": "text/x-fsharp",
   "name": "fsharp",
   "nbconvert_exporter": "",
   "pygments_lexer": "",
   "version": "4.3.1.0"
  }
 },
 "nbformat": 4,
 "nbformat_minor": 2
}
